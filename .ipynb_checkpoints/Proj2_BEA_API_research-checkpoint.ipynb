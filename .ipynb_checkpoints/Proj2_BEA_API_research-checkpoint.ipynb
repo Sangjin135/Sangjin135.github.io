{
 "cells": [
  {
   "cell_type": "code",
   "execution_count": 5,
   "metadata": {},
   "outputs": [],
   "source": [
    "# Dependencies\n",
    "import requests\n",
    "import json\n",
    "from pprint import pprint\n",
    "#from config import api_key\n",
    "from IPython.core.display import display, HTML\n",
    "url = \"https://www.bea.gov/api/data?&UserID=9B59C0A0-9E56-4A83-B520-ACC38120C96D&method=GETDATASETLIST&ResultFormat=JSON&\""
   ]
  },
  {
   "cell_type": "code",
   "execution_count": 6,
   "metadata": {},
   "outputs": [
    {
     "name": "stdout",
     "output_type": "stream",
     "text": [
      "{\n",
      "    \"BEAAPI\": {\n",
      "        \"Request\": {\n",
      "            \"RequestParam\": [\n",
      "                {\n",
      "                    \"ParameterName\": \"RESULTFORMAT\",\n",
      "                    \"ParameterValue\": \"JSON\"\n",
      "                },\n",
      "                {\n",
      "                    \"ParameterName\": \"METHOD\",\n",
      "                    \"ParameterValue\": \"GETDATASETLIST\"\n",
      "                },\n",
      "                {\n",
      "                    \"ParameterName\": \"USERID\",\n",
      "                    \"ParameterValue\": \"9B59C0A0-9E56-4A83-B520-ACC38120C96D\"\n",
      "                }\n",
      "            ]\n",
      "        },\n",
      "        \"Results\": {\n",
      "            \"Dataset\": [\n",
      "                {\n",
      "                    \"DatasetDescription\": \"The RegionalData dataset is obsolete. Please use the RegionalIncome and RegionalProduct datasets. See API documentation at bea.gov/developers\",\n",
      "                    \"DatasetName\": \"RegionalData\"\n",
      "                },\n",
      "                {\n",
      "                    \"DatasetDescription\": \"Standard NIPA tables\",\n",
      "                    \"DatasetName\": \"NIPA\"\n",
      "                },\n",
      "                {\n",
      "                    \"DatasetDescription\": \"Standard NI underlying detail tables\",\n",
      "                    \"DatasetName\": \"NIUnderlyingDetail\"\n",
      "                },\n",
      "                {\n",
      "                    \"DatasetDescription\": \"Multinational Enterprises\",\n",
      "                    \"DatasetName\": \"MNE\"\n",
      "                },\n",
      "                {\n",
      "                    \"DatasetDescription\": \"Standard Fixed Assets tables\",\n",
      "                    \"DatasetName\": \"FixedAssets\"\n",
      "                },\n",
      "                {\n",
      "                    \"DatasetDescription\": \"International Transactions Accounts\",\n",
      "                    \"DatasetName\": \"ITA\"\n",
      "                },\n",
      "                {\n",
      "                    \"DatasetDescription\": \"International Investment Position\",\n",
      "                    \"DatasetName\": \"IIP\"\n",
      "                },\n",
      "                {\n",
      "                    \"DatasetDescription\": \"GDP by Industry\",\n",
      "                    \"DatasetName\": \"GDPbyIndustry\"\n",
      "                },\n",
      "                {\n",
      "                    \"DatasetDescription\": \"Regional Income data sets\",\n",
      "                    \"DatasetName\": \"RegionalIncome\"\n",
      "                },\n",
      "                {\n",
      "                    \"DatasetDescription\": \"Regional Product data sets\",\n",
      "                    \"DatasetName\": \"RegionalProduct\"\n",
      "                },\n",
      "                {\n",
      "                    \"DatasetDescription\": \"Input-Output Data\",\n",
      "                    \"DatasetName\": \"InputOutput\"\n",
      "                },\n",
      "                {\n",
      "                    \"DatasetDescription\": \"Underlying GDP by Industry\",\n",
      "                    \"DatasetName\": \"UnderlyingGDPbyIndustry\"\n",
      "                },\n",
      "                {\n",
      "                    \"DatasetDescription\": \"International Services Trade\",\n",
      "                    \"DatasetName\": \"IntlServTrade\"\n",
      "                },\n",
      "                {\n",
      "                    \"DatasetDescription\": \"Metadata about other API datasets\",\n",
      "                    \"DatasetName\": \"APIDatasetMetaData\"\n",
      "                }\n",
      "            ]\n",
      "        }\n",
      "    }\n",
      "}\n"
     ]
    }
   ],
   "source": [
    "# Pretty print JSON\n",
    "response = requests.get(url).json()\n",
    "print(json.dumps(response, indent=4, sort_keys=True))"
   ]
  },
  {
   "cell_type": "code",
   "execution_count": null,
   "metadata": {},
   "outputs": [],
   "source": []
  }
 ],
 "metadata": {
  "kernelspec": {
   "display_name": "Python 3",
   "language": "python",
   "name": "python3"
  },
  "language_info": {
   "codemirror_mode": {
    "name": "ipython",
    "version": 3
   },
   "file_extension": ".py",
   "mimetype": "text/x-python",
   "name": "python",
   "nbconvert_exporter": "python",
   "pygments_lexer": "ipython3",
   "version": "3.6.4"
  }
 },
 "nbformat": 4,
 "nbformat_minor": 2
}
